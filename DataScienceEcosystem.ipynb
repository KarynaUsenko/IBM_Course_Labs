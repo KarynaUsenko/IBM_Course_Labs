{
 "cells": [
  {
   "cell_type": "markdown",
   "id": "a0929cdf-ab83-492d-af69-6b6c3cb6d1a3",
   "metadata": {},
   "source": [
    "# Data Science Tools and Ecosystem"
   ]
  },
  {
   "cell_type": "markdown",
   "id": "2ec67fb9-4398-439c-ba61-2055e0e3d28a",
   "metadata": {},
   "source": [
    "In this notebook, Data Science Tools and Ecosystem are summarized."
   ]
  },
  {
   "cell_type": "markdown",
   "id": "69f8fb3d-658d-4f92-a921-a49d4d22442f",
   "metadata": {},
   "source": [
    "__Objectives:__\n",
    "- List popular languages for Data Science\n",
    "- List of common libraries for Data Science\n",
    "- Table with tools for Data Science\n",
    "- Examples of evaluating arithmetic expressions in Python"
   ]
  },
  {
   "cell_type": "markdown",
   "id": "58fa7a7d-8cd0-450f-bed0-5832b59cbfb1",
   "metadata": {},
   "source": [
    "Some of the popular languages that Data Scientists use are:\n",
    "1. R\n",
    "2. Python\n",
    "3. SQL\n",
    "4. Java\n",
    "5. C++"
   ]
  },
  {
   "cell_type": "markdown",
   "id": "5c15ee14-f8ce-42b6-89dc-e0320e197ada",
   "metadata": {},
   "source": [
    "Some of the commonly used libraries used by Data Scientists include:\n",
    "1. Pandas (python)\n",
    "2. Mathplotlib (python)\n",
    "3. dplyr (R)\n",
    "4. ggplot2 (R)"
   ]
  },
  {
   "cell_type": "markdown",
   "id": "f5b35eba-31a4-42ad-a27c-a8d6e4431616",
   "metadata": {},
   "source": [
    "| Data Science Tools |\n",
    "| ---------------- |\n",
    "| JupyterNotebook | \n",
    "| Anaconda |\n",
    "| GitHub |"
   ]
  },
  {
   "cell_type": "markdown",
   "id": "339866b8-a992-4d04-88ca-91a98b515abd",
   "metadata": {},
   "source": [
    "### Below are a few examples of evaluating arithmetic expressions in Python "
   ]
  },
  {
   "cell_type": "code",
   "execution_count": 14,
   "id": "f5ad3f59-13d5-4443-804a-390d106f3ce4",
   "metadata": {},
   "outputs": [
    {
     "data": {
      "text/plain": [
       "17"
      ]
     },
     "execution_count": 14,
     "metadata": {},
     "output_type": "execute_result"
    }
   ],
   "source": [
    "# This a simple arithmetic expression to mutiply then add integers\n",
    "(3*4)+5"
   ]
  },
  {
   "cell_type": "code",
   "execution_count": 21,
   "id": "d70cda1b-222b-4ecb-bb74-54bbd88249ae",
   "metadata": {},
   "outputs": [
    {
     "name": "stdout",
     "output_type": "stream",
     "text": [
      "3.3333333333333335\n"
     ]
    }
   ],
   "source": [
    "#  This will convert 200 minutes to hours by diving by 60\n",
    "minutes = 200\n",
    "hours = minutes / 60 \n",
    "print (hours)"
   ]
  },
  {
   "cell_type": "markdown",
   "id": "8cf8c72a-d34e-4535-a0f5-7019abb342d4",
   "metadata": {},
   "source": [
    "## Author\n",
    "Karyna Veretylna\n"
   ]
  },
  {
   "cell_type": "code",
   "execution_count": null,
   "id": "265ed73b-e7b4-4e32-9539-10e03d55e6cb",
   "metadata": {},
   "outputs": [],
   "source": []
  }
 ],
 "metadata": {
  "kernelspec": {
   "display_name": "Python 3 (ipykernel)",
   "language": "python",
   "name": "python3"
  },
  "language_info": {
   "codemirror_mode": {
    "name": "ipython",
    "version": 3
   },
   "file_extension": ".py",
   "mimetype": "text/x-python",
   "name": "python",
   "nbconvert_exporter": "python",
   "pygments_lexer": "ipython3",
   "version": "3.12.4"
  }
 },
 "nbformat": 4,
 "nbformat_minor": 5
}
